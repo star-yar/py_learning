{
 "cells": [
  {
   "cell_type": "code",
   "execution_count": 58,
   "metadata": {
    "collapsed": true
   },
   "outputs": [],
   "source": [
    "number = 42\n",
    "\n",
    "while True:\n",
    "    \n",
    "    answer = input(\"Введите число: \")\n",
    "    if not answer or answer == 'exit':\n",
    "        break\n",
    "    \n",
    "    if answer.isdigit():\n",
    "        answer = int(answer)\n",
    "    else:\n",
    "        print('Введи норм!')\n",
    "        continue\n",
    "        \n",
    "    if answer==number:\n",
    "        print('Угадал!')\n",
    "        break\n",
    "    elif answer < number:\n",
    "        print('Больше')\n",
    "    elif answer > number:\n",
    "        print('Меньше!')"
   ]
  }
 ],
 "metadata": {
  "kernelspec": {
   "display_name": "Python 3",
   "language": "python",
   "name": "python3"
  },
  "language_info": {
   "codemirror_mode": {
    "name": "ipython",
    "version": 3
   },
   "file_extension": ".py",
   "mimetype": "text/x-python",
   "name": "python",
   "nbconvert_exporter": "python",
   "pygments_lexer": "ipython3",
   "version": "3.6.1"
  }
 },
 "nbformat": 4,
 "nbformat_minor": 2
}
